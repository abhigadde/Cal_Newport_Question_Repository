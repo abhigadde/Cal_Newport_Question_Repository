{
  "cells": [
    {
      "cell_type": "markdown",
      "metadata": {
        "id": "view-in-github",
        "colab_type": "text"
      },
      "source": [
        "<a href=\"https://colab.research.google.com/github/abhigadde/Cal_Newport_Question_Repository/blob/main/Cal_Newport_Question_List.ipynb\" target=\"_parent\"><img src=\"https://colab.research.google.com/assets/colab-badge.svg\" alt=\"Open In Colab\"/></a>"
      ]
    },
    {
      "cell_type": "markdown",
      "id": "a4b4715d-87eb-42ae-bb9b-a4396a090371",
      "metadata": {
        "id": "a4b4715d-87eb-42ae-bb9b-a4396a090371"
      },
      "source": [
        "The goal is to go through Cal Newport's Deep Work podcast and pull all timestamps and questions into a single excel file so users can easily see all the 1500+ questions Cal has answered over his 200+ episodes and only listen to the questions that pertain most to them without wasting time going through each podcast episode."
      ]
    },
    {
      "cell_type": "code",
      "execution_count": null,
      "id": "66ea0cee",
      "metadata": {
        "collapsed": true,
        "jupyter": {
          "outputs_hidden": true
        },
        "tags": [],
        "id": "66ea0cee",
        "colab": {
          "base_uri": "https://localhost:8080/"
        },
        "outputId": "fc542fbc-f4cb-4ab8-eb60-e890e2f90569"
      },
      "outputs": [
        {
          "output_type": "stream",
          "name": "stdout",
          "text": [
            "Looking in indexes: https://pypi.org/simple, https://us-python.pkg.dev/colab-wheels/public/simple/\n",
            "Requirement already satisfied: spotipy in /usr/local/lib/python3.7/dist-packages (2.20.0)\n",
            "Requirement already satisfied: urllib3>=1.26.0 in /usr/local/lib/python3.7/dist-packages (from spotipy) (1.26.9)\n",
            "Requirement already satisfied: requests>=2.25.0 in /usr/local/lib/python3.7/dist-packages (from spotipy) (2.28.1)\n",
            "Requirement already satisfied: redis>=3.5.3 in /usr/local/lib/python3.7/dist-packages (from spotipy) (4.3.4)\n",
            "Requirement already satisfied: six>=1.15.0 in /usr/local/lib/python3.7/dist-packages (from spotipy) (1.15.0)\n",
            "Requirement already satisfied: typing-extensions in /usr/local/lib/python3.7/dist-packages (from redis>=3.5.3->spotipy) (4.1.1)\n",
            "Requirement already satisfied: packaging>=20.4 in /usr/local/lib/python3.7/dist-packages (from redis>=3.5.3->spotipy) (21.3)\n",
            "Requirement already satisfied: async-timeout>=4.0.2 in /usr/local/lib/python3.7/dist-packages (from redis>=3.5.3->spotipy) (4.0.2)\n",
            "Requirement already satisfied: importlib-metadata>=1.0 in /usr/local/lib/python3.7/dist-packages (from redis>=3.5.3->spotipy) (4.11.4)\n",
            "Requirement already satisfied: deprecated>=1.2.3 in /usr/local/lib/python3.7/dist-packages (from redis>=3.5.3->spotipy) (1.2.13)\n",
            "Requirement already satisfied: wrapt<2,>=1.10 in /usr/local/lib/python3.7/dist-packages (from deprecated>=1.2.3->redis>=3.5.3->spotipy) (1.14.1)\n",
            "Requirement already satisfied: zipp>=0.5 in /usr/local/lib/python3.7/dist-packages (from importlib-metadata>=1.0->redis>=3.5.3->spotipy) (3.8.0)\n",
            "Requirement already satisfied: pyparsing!=3.0.5,>=2.0.2 in /usr/local/lib/python3.7/dist-packages (from packaging>=20.4->redis>=3.5.3->spotipy) (3.0.9)\n",
            "Requirement already satisfied: certifi>=2017.4.17 in /usr/local/lib/python3.7/dist-packages (from requests>=2.25.0->spotipy) (2022.6.15)\n",
            "Requirement already satisfied: idna<4,>=2.5 in /usr/local/lib/python3.7/dist-packages (from requests>=2.25.0->spotipy) (2.10)\n",
            "Requirement already satisfied: charset-normalizer<3,>=2 in /usr/local/lib/python3.7/dist-packages (from requests>=2.25.0->spotipy) (2.0.12)\n"
          ]
        }
      ],
      "source": [
        "pip install spotipy --upgrade"
      ]
    },
    {
      "cell_type": "markdown",
      "source": [
        "For security reasons, I can't share my client secret. So to run the code below and use the Web API, start by creating a Spotify user account (Premium or Free). To do that, simply sign up at www.spotify.com.\n",
        "\n",
        "When you have a user account, go to the Dashboard page at the Spotify Developer website and, if necessary, log in. Accept the latest Developer Terms of Service to complete your account set up. Then all you need to is create an app and put that client ID and client secret below. This is all completely free and should take under 10 minutes."
      ],
      "metadata": {
        "id": "Ja9O0-EHwesy"
      },
      "id": "Ja9O0-EHwesy"
    },
    {
      "cell_type": "code",
      "execution_count": null,
      "id": "69542b73-8da5-41fd-92ae-6cd0e513d13a",
      "metadata": {
        "id": "69542b73-8da5-41fd-92ae-6cd0e513d13a"
      },
      "outputs": [],
      "source": [
        "import spotipy\n",
        "import re\n",
        "import pandas as pd\n",
        "from spotipy.oauth2 import SpotifyClientCredentials\n",
        "cid = 'YOUR CLIENT ID'\n",
        "secret = 'YOUR CLIENT SECRET'\n",
        "\n",
        "client_credentials_manager = SpotifyClientCredentials(client_id=cid, client_secret=secret)\n",
        "sp = spotipy.Spotify(client_credentials_manager = client_credentials_manager)"
      ]
    },
    {
      "cell_type": "code",
      "execution_count": null,
      "id": "7213d29c-73e6-44ab-a5b1-9d641cfe64cc",
      "metadata": {
        "tags": [],
        "id": "7213d29c-73e6-44ab-a5b1-9d641cfe64cc"
      },
      "outputs": [],
      "source": [
        "#pull all the fields of interest from Spotify using the spotipy library\n",
        "\n",
        "uri = '0e9lFr3AdJByoBpM6tAbxD' #ID for cal newports podcast. This is the last part of the url one puts into google chrome to access the spotify webpage\n",
        "total_episode_count = sp.show_episodes(uri, limit = 50, offset = 0, market = 'US').get('total') \n",
        "#These are 3 fields of interest we want to output\n",
        "show_descriptions = []\n",
        "episode_url = []\n",
        "episode_number = []\n",
        "    \n",
        "for i in range(0,total_episode_count,50): #spotify sadly limits calls to size 50 so need a for loop here\n",
        "    episode_list = sp.show_episodes(uri, limit = 50, offset = i, market = 'US')\n",
        "    item_list = episode_list.get('items')\n",
        "    \n",
        "    for j in range(0,len(item_list),1):\n",
        "        show_descriptions.append(item_list[j]['description'])\n",
        "        episode_url.append(item_list[j]['external_urls'].values())\n",
        "        episode_number.append(re.split(':', item_list[j]['name'])[0])\n",
        "        #print(j)\n",
        "    #print(i)\n",
        "\n",
        "\n",
        "#Note excluding episodes 9 & 10 (in addition to episodes 1-8 since they don't have timestamps) since even though those 2 episodes have timestamps, \n",
        "#they are in front of the description  whereas it seems all later episodes have the timestamp at the end of the description\n",
        "#Lastly, I am also reversing the order of all the lists so counts episodes in ascending rather than descending order.\n",
        "\n",
        "episode_url.reverse()\n",
        "episode_url_truncated = episode_url[10:]\n",
        "\n",
        "episode_number.reverse()\n",
        "episode_number_truncated = episode_number[10:]\n",
        "\n",
        "show_descriptions_with_timestamps = show_descriptions[:len(show_descriptions)-10]\n",
        "show_descriptions_with_timestamps.reverse()"
      ]
    },
    {
      "cell_type": "code",
      "execution_count": null,
      "id": "0500ef3a-42b8-45d1-937b-94b6040f24e3",
      "metadata": {
        "id": "0500ef3a-42b8-45d1-937b-94b6040f24e3"
      },
      "outputs": [],
      "source": [
        "#Note since we want to delimit using \"]\"(done later in code) our first line will have a lot of excess text we will want to remove.\n",
        "#Therefore, we need to process the first line text seperately.\n",
        "\n",
        "first_line = []\n",
        "for i in range(0,len(show_descriptions_with_timestamps),1):\n",
        "    a = re.split('\\]', show_descriptions_with_timestamps[i])\n",
        "    #print (*a,sep='\\n')\n",
        "    first_line.append(a[0])"
      ]
    },
    {
      "cell_type": "code",
      "execution_count": null,
      "id": "6aef1814-cee6-4f1d-831e-a39c51afc9fe",
      "metadata": {
        "tags": [],
        "id": "6aef1814-cee6-4f1d-831e-a39c51afc9fe"
      },
      "outputs": [],
      "source": [
        "#Have 5 different rules in place based on how cal updated his podcast descriptions over time.\n",
        "\n",
        "first_line_truncate = []\n",
        "for i in range(0,41,1):\n",
        "    first_line_truncate.append(re.split('\\*', first_line[i])[-1])\n",
        "\n",
        "for i in range(41,49,1): #this is by far the hardest segment of shows to split out the first line for. Luckily not too many episodes\n",
        "    first_line_truncate.append(re.split('\\*|-', first_line[i])[-1])\n",
        "    \n",
        "for i in range(49,156,1):\n",
        "    first_line_truncate.append(re.split('podcast.', first_line[i])[-1])\n",
        "\n",
        "for i in range(156,168,1):\n",
        "    first_line_truncate.append(re.split('b2rkctfj', first_line[i])[-1])\n",
        "    \n",
        "for i in range(168,len(first_line),1): #I assume he will keep the same description format in the future. If he doesn't this needs to be updated\n",
        "    first_line_truncate.append(re.split('calnewportmedia', first_line[i])[-1])\n",
        "    "
      ]
    },
    {
      "cell_type": "code",
      "execution_count": null,
      "id": "8e9b4f6f-d2c9-4aa6-be4d-210435b88aba",
      "metadata": {
        "tags": [],
        "id": "8e9b4f6f-d2c9-4aa6-be4d-210435b88aba"
      },
      "outputs": [],
      "source": [
        "#Now we can combine the specially processed first lines with all the other lines. We will also include episode link and number here.\n",
        "\n",
        "show_desc_df = pd.DataFrame(columns=['timestamp', 'link','episode name'])\n",
        "for i in range(0,len(show_descriptions_with_timestamps),1):\n",
        "    df2 = pd.DataFrame({'timestamp':[first_line_truncate[i]], 'link': episode_url_truncated[i], 'episode name': episode_number_truncated[i]})\n",
        "    show_desc_df = show_desc_df.append(df2, ignore_index=True)\n",
        "    \n",
        "    df3 = pd.DataFrame({'timestamp':re.split('\\]', show_descriptions_with_timestamps[i])[1:][:-1], 'link': 'N/A', 'episode name': episode_number_truncated[i]})\n",
        "    df3['link'] = df3['link'].replace(['N/A'],episode_url_truncated[i])\n",
        "    show_desc_df = show_desc_df.append(df3, ignore_index=True)"
      ]
    },
    {
      "cell_type": "code",
      "execution_count": null,
      "id": "78b8380f-afae-44b0-812f-05d5838fa10c",
      "metadata": {
        "id": "78b8380f-afae-44b0-812f-05d5838fa10c"
      },
      "outputs": [],
      "source": [
        "#Last touchups to timestamps\n",
        "\n",
        "#Write ] to every value in timestamp column cause delimiter above removed it\n",
        "show_desc_df['timestamp'] = show_desc_df['timestamp'].astype(str) + ']'\n",
        "\n",
        "#Remove some extraneous repeated words\n",
        "pattern = '|'.join(['TECHNOLOGY QUESTIONS', 'TECHNOLOGY QUESTION', 'DEEP LIFE QUESTIONS', 'DEEP WORK QUESTIONS','WORK QUESTIONS', 'QUESTIONS:', '\\* ','  ','- ',' - '])\n",
        "show_desc_df['timestamp'] = show_desc_df['timestamp'].str.replace(pattern,'', regex = True)"
      ]
    },
    {
      "cell_type": "code",
      "execution_count": null,
      "id": "60700c54-fabd-42fc-8253-494cfcbba21a",
      "metadata": {
        "colab": {
          "base_uri": "https://localhost:8080/",
          "height": 17
        },
        "id": "60700c54-fabd-42fc-8253-494cfcbba21a",
        "outputId": "7420d1d2-064a-4ad9-a6f5-eae29f127625"
      },
      "outputs": [
        {
          "output_type": "display_data",
          "data": {
            "text/plain": [
              "<IPython.core.display.Javascript object>"
            ],
            "application/javascript": [
              "\n",
              "    async function download(id, filename, size) {\n",
              "      if (!google.colab.kernel.accessAllowed) {\n",
              "        return;\n",
              "      }\n",
              "      const div = document.createElement('div');\n",
              "      const label = document.createElement('label');\n",
              "      label.textContent = `Downloading \"${filename}\": `;\n",
              "      div.appendChild(label);\n",
              "      const progress = document.createElement('progress');\n",
              "      progress.max = size;\n",
              "      div.appendChild(progress);\n",
              "      document.body.appendChild(div);\n",
              "\n",
              "      const buffers = [];\n",
              "      let downloaded = 0;\n",
              "\n",
              "      const channel = await google.colab.kernel.comms.open(id);\n",
              "      // Send a message to notify the kernel that we're ready.\n",
              "      channel.send({})\n",
              "\n",
              "      for await (const message of channel.messages) {\n",
              "        // Send a message to notify the kernel that we're ready.\n",
              "        channel.send({})\n",
              "        if (message.buffers) {\n",
              "          for (const buffer of message.buffers) {\n",
              "            buffers.push(buffer);\n",
              "            downloaded += buffer.byteLength;\n",
              "            progress.value = downloaded;\n",
              "          }\n",
              "        }\n",
              "      }\n",
              "      const blob = new Blob(buffers, {type: 'application/binary'});\n",
              "      const a = document.createElement('a');\n",
              "      a.href = window.URL.createObjectURL(blob);\n",
              "      a.download = filename;\n",
              "      div.appendChild(a);\n",
              "      a.click();\n",
              "      div.remove();\n",
              "    }\n",
              "  "
            ]
          },
          "metadata": {}
        },
        {
          "output_type": "display_data",
          "data": {
            "text/plain": [
              "<IPython.core.display.Javascript object>"
            ],
            "application/javascript": [
              "download(\"download_daa6da74-27b1-4655-bc97-a4631cf68fbd\", \"final_output.csv\", 192119)"
            ]
          },
          "metadata": {}
        }
      ],
      "source": [
        "#Write out final dataframe to csv and download it\n",
        "from google.colab import files\n",
        "\n",
        "show_desc_df.to_csv('final_output.csv', encoding='utf-8-sig')\n",
        "files.download('final_output.csv')"
      ]
    }
  ],
  "metadata": {
    "kernelspec": {
      "display_name": "Python 3 (ipykernel)",
      "language": "python",
      "name": "python3"
    },
    "language_info": {
      "codemirror_mode": {
        "name": "ipython",
        "version": 3
      },
      "file_extension": ".py",
      "mimetype": "text/x-python",
      "name": "python",
      "nbconvert_exporter": "python",
      "pygments_lexer": "ipython3",
      "version": "3.9.7"
    },
    "colab": {
      "name": "Cal_Newport_Question_List.ipynb",
      "provenance": [],
      "include_colab_link": true
    }
  },
  "nbformat": 4,
  "nbformat_minor": 5
}